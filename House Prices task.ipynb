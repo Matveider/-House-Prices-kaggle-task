{
 "cells": [
  {
   "cell_type": "markdown",
   "id": "70f7462f",
   "metadata": {},
   "source": [
    "Let us load the data, create dataframe and observe it"
   ]
  },
  {
   "cell_type": "code",
   "execution_count": 1,
   "id": "18375294",
   "metadata": {},
   "outputs": [],
   "source": [
    "import pandas as pd\n",
    "import numpy as np\n",
    "import matplotlib.pyplot as plt\n",
    "from sklearn.preprocessing import OneHotEncoder\n",
    "from sklearn.preprocessing import LabelEncoder\n",
    "from sklearn.impute import SimpleImputer\n",
    "from sklearn.model_selection import train_test_split\n",
    "from sklearn.preprocessing import StandardScaler\n",
    "from sklearn import linear_model\n",
    "from sklearn.ensemble import RandomForestRegressor\n",
    "from sklearn.model_selection import GridSearchCV\n",
    "from sklearn.metrics import mean_squared_error"
   ]
  },
  {
   "cell_type": "code",
   "execution_count": 2,
   "id": "fbfebda0",
   "metadata": {},
   "outputs": [],
   "source": [
    "raw_train = pd.read_csv('d:\\\\testing\\\\House Prices\\\\train.csv')\n",
    "raw_test = pd.read_csv('d:\\\\testing\\\\House Prices\\\\test.csv')"
   ]
  },
  {
   "cell_type": "code",
   "execution_count": 3,
   "id": "6e80a339",
   "metadata": {},
   "outputs": [
    {
     "data": {
      "text/html": [
       "<div>\n",
       "<style scoped>\n",
       "    .dataframe tbody tr th:only-of-type {\n",
       "        vertical-align: middle;\n",
       "    }\n",
       "\n",
       "    .dataframe tbody tr th {\n",
       "        vertical-align: top;\n",
       "    }\n",
       "\n",
       "    .dataframe thead th {\n",
       "        text-align: right;\n",
       "    }\n",
       "</style>\n",
       "<table border=\"1\" class=\"dataframe\">\n",
       "  <thead>\n",
       "    <tr style=\"text-align: right;\">\n",
       "      <th></th>\n",
       "      <th>Id</th>\n",
       "      <th>MSSubClass</th>\n",
       "      <th>MSZoning</th>\n",
       "      <th>LotFrontage</th>\n",
       "      <th>LotArea</th>\n",
       "      <th>Street</th>\n",
       "      <th>Alley</th>\n",
       "      <th>LotShape</th>\n",
       "      <th>LandContour</th>\n",
       "      <th>Utilities</th>\n",
       "      <th>...</th>\n",
       "      <th>PoolArea</th>\n",
       "      <th>PoolQC</th>\n",
       "      <th>Fence</th>\n",
       "      <th>MiscFeature</th>\n",
       "      <th>MiscVal</th>\n",
       "      <th>MoSold</th>\n",
       "      <th>YrSold</th>\n",
       "      <th>SaleType</th>\n",
       "      <th>SaleCondition</th>\n",
       "      <th>SalePrice</th>\n",
       "    </tr>\n",
       "  </thead>\n",
       "  <tbody>\n",
       "    <tr>\n",
       "      <th>0</th>\n",
       "      <td>1</td>\n",
       "      <td>60</td>\n",
       "      <td>RL</td>\n",
       "      <td>65.0</td>\n",
       "      <td>8450</td>\n",
       "      <td>Pave</td>\n",
       "      <td>NaN</td>\n",
       "      <td>Reg</td>\n",
       "      <td>Lvl</td>\n",
       "      <td>AllPub</td>\n",
       "      <td>...</td>\n",
       "      <td>0</td>\n",
       "      <td>NaN</td>\n",
       "      <td>NaN</td>\n",
       "      <td>NaN</td>\n",
       "      <td>0</td>\n",
       "      <td>2</td>\n",
       "      <td>2008</td>\n",
       "      <td>WD</td>\n",
       "      <td>Normal</td>\n",
       "      <td>208500</td>\n",
       "    </tr>\n",
       "    <tr>\n",
       "      <th>1</th>\n",
       "      <td>2</td>\n",
       "      <td>20</td>\n",
       "      <td>RL</td>\n",
       "      <td>80.0</td>\n",
       "      <td>9600</td>\n",
       "      <td>Pave</td>\n",
       "      <td>NaN</td>\n",
       "      <td>Reg</td>\n",
       "      <td>Lvl</td>\n",
       "      <td>AllPub</td>\n",
       "      <td>...</td>\n",
       "      <td>0</td>\n",
       "      <td>NaN</td>\n",
       "      <td>NaN</td>\n",
       "      <td>NaN</td>\n",
       "      <td>0</td>\n",
       "      <td>5</td>\n",
       "      <td>2007</td>\n",
       "      <td>WD</td>\n",
       "      <td>Normal</td>\n",
       "      <td>181500</td>\n",
       "    </tr>\n",
       "    <tr>\n",
       "      <th>2</th>\n",
       "      <td>3</td>\n",
       "      <td>60</td>\n",
       "      <td>RL</td>\n",
       "      <td>68.0</td>\n",
       "      <td>11250</td>\n",
       "      <td>Pave</td>\n",
       "      <td>NaN</td>\n",
       "      <td>IR1</td>\n",
       "      <td>Lvl</td>\n",
       "      <td>AllPub</td>\n",
       "      <td>...</td>\n",
       "      <td>0</td>\n",
       "      <td>NaN</td>\n",
       "      <td>NaN</td>\n",
       "      <td>NaN</td>\n",
       "      <td>0</td>\n",
       "      <td>9</td>\n",
       "      <td>2008</td>\n",
       "      <td>WD</td>\n",
       "      <td>Normal</td>\n",
       "      <td>223500</td>\n",
       "    </tr>\n",
       "    <tr>\n",
       "      <th>3</th>\n",
       "      <td>4</td>\n",
       "      <td>70</td>\n",
       "      <td>RL</td>\n",
       "      <td>60.0</td>\n",
       "      <td>9550</td>\n",
       "      <td>Pave</td>\n",
       "      <td>NaN</td>\n",
       "      <td>IR1</td>\n",
       "      <td>Lvl</td>\n",
       "      <td>AllPub</td>\n",
       "      <td>...</td>\n",
       "      <td>0</td>\n",
       "      <td>NaN</td>\n",
       "      <td>NaN</td>\n",
       "      <td>NaN</td>\n",
       "      <td>0</td>\n",
       "      <td>2</td>\n",
       "      <td>2006</td>\n",
       "      <td>WD</td>\n",
       "      <td>Abnorml</td>\n",
       "      <td>140000</td>\n",
       "    </tr>\n",
       "    <tr>\n",
       "      <th>4</th>\n",
       "      <td>5</td>\n",
       "      <td>60</td>\n",
       "      <td>RL</td>\n",
       "      <td>84.0</td>\n",
       "      <td>14260</td>\n",
       "      <td>Pave</td>\n",
       "      <td>NaN</td>\n",
       "      <td>IR1</td>\n",
       "      <td>Lvl</td>\n",
       "      <td>AllPub</td>\n",
       "      <td>...</td>\n",
       "      <td>0</td>\n",
       "      <td>NaN</td>\n",
       "      <td>NaN</td>\n",
       "      <td>NaN</td>\n",
       "      <td>0</td>\n",
       "      <td>12</td>\n",
       "      <td>2008</td>\n",
       "      <td>WD</td>\n",
       "      <td>Normal</td>\n",
       "      <td>250000</td>\n",
       "    </tr>\n",
       "  </tbody>\n",
       "</table>\n",
       "<p>5 rows × 81 columns</p>\n",
       "</div>"
      ],
      "text/plain": [
       "   Id  MSSubClass MSZoning  LotFrontage  LotArea Street Alley LotShape  \\\n",
       "0   1          60       RL         65.0     8450   Pave   NaN      Reg   \n",
       "1   2          20       RL         80.0     9600   Pave   NaN      Reg   \n",
       "2   3          60       RL         68.0    11250   Pave   NaN      IR1   \n",
       "3   4          70       RL         60.0     9550   Pave   NaN      IR1   \n",
       "4   5          60       RL         84.0    14260   Pave   NaN      IR1   \n",
       "\n",
       "  LandContour Utilities  ... PoolArea PoolQC Fence MiscFeature MiscVal MoSold  \\\n",
       "0         Lvl    AllPub  ...        0    NaN   NaN         NaN       0      2   \n",
       "1         Lvl    AllPub  ...        0    NaN   NaN         NaN       0      5   \n",
       "2         Lvl    AllPub  ...        0    NaN   NaN         NaN       0      9   \n",
       "3         Lvl    AllPub  ...        0    NaN   NaN         NaN       0      2   \n",
       "4         Lvl    AllPub  ...        0    NaN   NaN         NaN       0     12   \n",
       "\n",
       "  YrSold  SaleType  SaleCondition  SalePrice  \n",
       "0   2008        WD         Normal     208500  \n",
       "1   2007        WD         Normal     181500  \n",
       "2   2008        WD         Normal     223500  \n",
       "3   2006        WD        Abnorml     140000  \n",
       "4   2008        WD         Normal     250000  \n",
       "\n",
       "[5 rows x 81 columns]"
      ]
     },
     "execution_count": 3,
     "metadata": {},
     "output_type": "execute_result"
    }
   ],
   "source": [
    "raw_train.head()"
   ]
  },
  {
   "cell_type": "code",
   "execution_count": 4,
   "id": "b601dc5f",
   "metadata": {},
   "outputs": [
    {
     "name": "stdout",
     "output_type": "stream",
     "text": [
      "<class 'pandas.core.frame.DataFrame'>\n",
      "RangeIndex: 1460 entries, 0 to 1459\n",
      "Data columns (total 81 columns):\n",
      " #   Column         Non-Null Count  Dtype  \n",
      "---  ------         --------------  -----  \n",
      " 0   Id             1460 non-null   int64  \n",
      " 1   MSSubClass     1460 non-null   int64  \n",
      " 2   MSZoning       1460 non-null   object \n",
      " 3   LotFrontage    1201 non-null   float64\n",
      " 4   LotArea        1460 non-null   int64  \n",
      " 5   Street         1460 non-null   object \n",
      " 6   Alley          91 non-null     object \n",
      " 7   LotShape       1460 non-null   object \n",
      " 8   LandContour    1460 non-null   object \n",
      " 9   Utilities      1460 non-null   object \n",
      " 10  LotConfig      1460 non-null   object \n",
      " 11  LandSlope      1460 non-null   object \n",
      " 12  Neighborhood   1460 non-null   object \n",
      " 13  Condition1     1460 non-null   object \n",
      " 14  Condition2     1460 non-null   object \n",
      " 15  BldgType       1460 non-null   object \n",
      " 16  HouseStyle     1460 non-null   object \n",
      " 17  OverallQual    1460 non-null   int64  \n",
      " 18  OverallCond    1460 non-null   int64  \n",
      " 19  YearBuilt      1460 non-null   int64  \n",
      " 20  YearRemodAdd   1460 non-null   int64  \n",
      " 21  RoofStyle      1460 non-null   object \n",
      " 22  RoofMatl       1460 non-null   object \n",
      " 23  Exterior1st    1460 non-null   object \n",
      " 24  Exterior2nd    1460 non-null   object \n",
      " 25  MasVnrType     1452 non-null   object \n",
      " 26  MasVnrArea     1452 non-null   float64\n",
      " 27  ExterQual      1460 non-null   object \n",
      " 28  ExterCond      1460 non-null   object \n",
      " 29  Foundation     1460 non-null   object \n",
      " 30  BsmtQual       1423 non-null   object \n",
      " 31  BsmtCond       1423 non-null   object \n",
      " 32  BsmtExposure   1422 non-null   object \n",
      " 33  BsmtFinType1   1423 non-null   object \n",
      " 34  BsmtFinSF1     1460 non-null   int64  \n",
      " 35  BsmtFinType2   1422 non-null   object \n",
      " 36  BsmtFinSF2     1460 non-null   int64  \n",
      " 37  BsmtUnfSF      1460 non-null   int64  \n",
      " 38  TotalBsmtSF    1460 non-null   int64  \n",
      " 39  Heating        1460 non-null   object \n",
      " 40  HeatingQC      1460 non-null   object \n",
      " 41  CentralAir     1460 non-null   object \n",
      " 42  Electrical     1459 non-null   object \n",
      " 43  1stFlrSF       1460 non-null   int64  \n",
      " 44  2ndFlrSF       1460 non-null   int64  \n",
      " 45  LowQualFinSF   1460 non-null   int64  \n",
      " 46  GrLivArea      1460 non-null   int64  \n",
      " 47  BsmtFullBath   1460 non-null   int64  \n",
      " 48  BsmtHalfBath   1460 non-null   int64  \n",
      " 49  FullBath       1460 non-null   int64  \n",
      " 50  HalfBath       1460 non-null   int64  \n",
      " 51  BedroomAbvGr   1460 non-null   int64  \n",
      " 52  KitchenAbvGr   1460 non-null   int64  \n",
      " 53  KitchenQual    1460 non-null   object \n",
      " 54  TotRmsAbvGrd   1460 non-null   int64  \n",
      " 55  Functional     1460 non-null   object \n",
      " 56  Fireplaces     1460 non-null   int64  \n",
      " 57  FireplaceQu    770 non-null    object \n",
      " 58  GarageType     1379 non-null   object \n",
      " 59  GarageYrBlt    1379 non-null   float64\n",
      " 60  GarageFinish   1379 non-null   object \n",
      " 61  GarageCars     1460 non-null   int64  \n",
      " 62  GarageArea     1460 non-null   int64  \n",
      " 63  GarageQual     1379 non-null   object \n",
      " 64  GarageCond     1379 non-null   object \n",
      " 65  PavedDrive     1460 non-null   object \n",
      " 66  WoodDeckSF     1460 non-null   int64  \n",
      " 67  OpenPorchSF    1460 non-null   int64  \n",
      " 68  EnclosedPorch  1460 non-null   int64  \n",
      " 69  3SsnPorch      1460 non-null   int64  \n",
      " 70  ScreenPorch    1460 non-null   int64  \n",
      " 71  PoolArea       1460 non-null   int64  \n",
      " 72  PoolQC         7 non-null      object \n",
      " 73  Fence          281 non-null    object \n",
      " 74  MiscFeature    54 non-null     object \n",
      " 75  MiscVal        1460 non-null   int64  \n",
      " 76  MoSold         1460 non-null   int64  \n",
      " 77  YrSold         1460 non-null   int64  \n",
      " 78  SaleType       1460 non-null   object \n",
      " 79  SaleCondition  1460 non-null   object \n",
      " 80  SalePrice      1460 non-null   int64  \n",
      "dtypes: float64(3), int64(35), object(43)\n",
      "memory usage: 924.0+ KB\n"
     ]
    }
   ],
   "source": [
    "raw_train.info()"
   ]
  },
  {
   "cell_type": "code",
   "execution_count": 5,
   "id": "428161b6",
   "metadata": {},
   "outputs": [],
   "source": [
    "X = raw_train.drop(['Id', 'SalePrice'], axis = 1)\n",
    "y = raw_train['SalePrice'] #SalePrice is our target\n",
    "test = raw_test.drop(['Id'], axis=1)"
   ]
  },
  {
   "cell_type": "markdown",
   "id": "7c973d86",
   "metadata": {},
   "source": [
    "Searching for numerical features, ascribing and scaling"
   ]
  },
  {
   "cell_type": "code",
   "execution_count": 6,
   "id": "b2e9204f",
   "metadata": {},
   "outputs": [],
   "source": [
    "numerical_features = X.select_dtypes(include = ['int16','int32', \n",
    "                                                'int64', 'float16', \n",
    "                                                'float32', 'float64']\n",
    "                                    ).columns.values"
   ]
  },
  {
   "cell_type": "code",
   "execution_count": 7,
   "id": "e1ad3052",
   "metadata": {},
   "outputs": [],
   "source": [
    "categorical_features = X.select_dtypes(exclude = ['int16','int32', \n",
    "                                                'int64', 'float16', \n",
    "                                                'float32', 'float64']\n",
    "                                      ).columns.values"
   ]
  },
  {
   "cell_type": "code",
   "execution_count": 8,
   "id": "3d12bcbd",
   "metadata": {},
   "outputs": [
    {
     "data": {
      "text/plain": [
       "array(['MSZoning', 'Street', 'Alley', 'LotShape', 'LandContour',\n",
       "       'Utilities', 'LotConfig', 'LandSlope', 'Neighborhood',\n",
       "       'Condition1', 'Condition2', 'BldgType', 'HouseStyle', 'RoofStyle',\n",
       "       'RoofMatl', 'Exterior1st', 'Exterior2nd', 'MasVnrType',\n",
       "       'ExterQual', 'ExterCond', 'Foundation', 'BsmtQual', 'BsmtCond',\n",
       "       'BsmtExposure', 'BsmtFinType1', 'BsmtFinType2', 'Heating',\n",
       "       'HeatingQC', 'CentralAir', 'Electrical', 'KitchenQual',\n",
       "       'Functional', 'FireplaceQu', 'GarageType', 'GarageFinish',\n",
       "       'GarageQual', 'GarageCond', 'PavedDrive', 'PoolQC', 'Fence',\n",
       "       'MiscFeature', 'SaleType', 'SaleCondition'], dtype=object)"
      ]
     },
     "execution_count": 8,
     "metadata": {},
     "output_type": "execute_result"
    }
   ],
   "source": [
    "categorical_features"
   ]
  },
  {
   "cell_type": "code",
   "execution_count": 9,
   "id": "4bf4af70",
   "metadata": {},
   "outputs": [
    {
     "data": {
      "text/plain": [
       "SimpleImputer(strategy='median')"
      ]
     },
     "execution_count": 9,
     "metadata": {},
     "output_type": "execute_result"
    }
   ],
   "source": [
    "imputer = SimpleImputer(strategy = 'median')\n",
    "imputer.fit(X[numerical_features])"
   ]
  },
  {
   "cell_type": "code",
   "execution_count": 10,
   "id": "3648bbd6",
   "metadata": {},
   "outputs": [],
   "source": [
    "X[numerical_features] = imputer.transform(X[numerical_features])\n",
    "test[numerical_features] = imputer.transform(test[numerical_features])"
   ]
  },
  {
   "cell_type": "code",
   "execution_count": 11,
   "id": "6d1bf47f",
   "metadata": {},
   "outputs": [
    {
     "data": {
      "text/plain": [
       "StandardScaler()"
      ]
     },
     "execution_count": 11,
     "metadata": {},
     "output_type": "execute_result"
    }
   ],
   "source": [
    "scaler = StandardScaler()\n",
    "scaler.fit(X[numerical_features])"
   ]
  },
  {
   "cell_type": "code",
   "execution_count": 12,
   "id": "8efda088",
   "metadata": {},
   "outputs": [],
   "source": [
    "X[numerical_features] = scaler.transform(X[numerical_features])\n",
    "test[numerical_features]=scaler.transform(test[numerical_features])"
   ]
  },
  {
   "cell_type": "code",
   "execution_count": 13,
   "id": "5598a8b6",
   "metadata": {},
   "outputs": [],
   "source": [
    "X = X.drop(['MSZoning', 'Street', 'Alley', 'LotShape', 'LandContour',\n",
    "       'Utilities', 'LotConfig', 'LandSlope', 'Neighborhood',\n",
    "       'Condition1', 'Condition2', 'BldgType', 'HouseStyle', 'RoofStyle',\n",
    "       'RoofMatl', 'Exterior1st', 'Exterior2nd', 'MasVnrType',\n",
    "       'ExterQual', 'ExterCond', 'Foundation', 'BsmtQual', 'BsmtCond',\n",
    "       'BsmtExposure', 'BsmtFinType1', 'BsmtFinType2', 'Heating',\n",
    "       'HeatingQC', 'CentralAir', 'Electrical', 'KitchenQual',\n",
    "       'Functional', 'FireplaceQu', 'GarageType', 'GarageFinish',\n",
    "       'GarageQual', 'GarageCond', 'PavedDrive', 'PoolQC', 'Fence',\n",
    "       'MiscFeature', 'SaleType', 'SaleCondition'], axis=1)"
   ]
  },
  {
   "cell_type": "code",
   "execution_count": 14,
   "id": "f4eec5b7",
   "metadata": {},
   "outputs": [],
   "source": [
    "test = test.drop(['MSZoning', 'Street', 'Alley', 'LotShape', 'LandContour',\n",
    "       'Utilities', 'LotConfig', 'LandSlope', 'Neighborhood',\n",
    "       'Condition1', 'Condition2', 'BldgType', 'HouseStyle', 'RoofStyle',\n",
    "       'RoofMatl', 'Exterior1st', 'Exterior2nd', 'MasVnrType',\n",
    "       'ExterQual', 'ExterCond', 'Foundation', 'BsmtQual', 'BsmtCond',\n",
    "       'BsmtExposure', 'BsmtFinType1', 'BsmtFinType2', 'Heating',\n",
    "       'HeatingQC', 'CentralAir', 'Electrical', 'KitchenQual',\n",
    "       'Functional', 'FireplaceQu', 'GarageType', 'GarageFinish',\n",
    "       'GarageQual', 'GarageCond', 'PavedDrive', 'PoolQC', 'Fence',\n",
    "       'MiscFeature', 'SaleType', 'SaleCondition'], axis=1)"
   ]
  },
  {
   "cell_type": "code",
   "execution_count": 15,
   "id": "637f6dc9",
   "metadata": {},
   "outputs": [
    {
     "data": {
      "text/html": [
       "<div>\n",
       "<style scoped>\n",
       "    .dataframe tbody tr th:only-of-type {\n",
       "        vertical-align: middle;\n",
       "    }\n",
       "\n",
       "    .dataframe tbody tr th {\n",
       "        vertical-align: top;\n",
       "    }\n",
       "\n",
       "    .dataframe thead th {\n",
       "        text-align: right;\n",
       "    }\n",
       "</style>\n",
       "<table border=\"1\" class=\"dataframe\">\n",
       "  <thead>\n",
       "    <tr style=\"text-align: right;\">\n",
       "      <th></th>\n",
       "      <th>MSSubClass</th>\n",
       "      <th>LotFrontage</th>\n",
       "      <th>LotArea</th>\n",
       "      <th>OverallQual</th>\n",
       "      <th>OverallCond</th>\n",
       "      <th>YearBuilt</th>\n",
       "      <th>YearRemodAdd</th>\n",
       "      <th>MasVnrArea</th>\n",
       "      <th>BsmtFinSF1</th>\n",
       "      <th>BsmtFinSF2</th>\n",
       "      <th>...</th>\n",
       "      <th>GarageArea</th>\n",
       "      <th>WoodDeckSF</th>\n",
       "      <th>OpenPorchSF</th>\n",
       "      <th>EnclosedPorch</th>\n",
       "      <th>3SsnPorch</th>\n",
       "      <th>ScreenPorch</th>\n",
       "      <th>PoolArea</th>\n",
       "      <th>MiscVal</th>\n",
       "      <th>MoSold</th>\n",
       "      <th>YrSold</th>\n",
       "    </tr>\n",
       "  </thead>\n",
       "  <tbody>\n",
       "    <tr>\n",
       "      <th>0</th>\n",
       "      <td>0.073375</td>\n",
       "      <td>-0.220875</td>\n",
       "      <td>-0.207142</td>\n",
       "      <td>0.651479</td>\n",
       "      <td>-0.517200</td>\n",
       "      <td>1.050994</td>\n",
       "      <td>0.878668</td>\n",
       "      <td>0.514104</td>\n",
       "      <td>0.575425</td>\n",
       "      <td>-0.288653</td>\n",
       "      <td>...</td>\n",
       "      <td>0.351000</td>\n",
       "      <td>-0.752176</td>\n",
       "      <td>0.216503</td>\n",
       "      <td>-0.359325</td>\n",
       "      <td>-0.116339</td>\n",
       "      <td>-0.270208</td>\n",
       "      <td>-0.068692</td>\n",
       "      <td>-0.087688</td>\n",
       "      <td>-1.599111</td>\n",
       "      <td>0.138777</td>\n",
       "    </tr>\n",
       "    <tr>\n",
       "      <th>1</th>\n",
       "      <td>-0.872563</td>\n",
       "      <td>0.460320</td>\n",
       "      <td>-0.091886</td>\n",
       "      <td>-0.071836</td>\n",
       "      <td>2.179628</td>\n",
       "      <td>0.156734</td>\n",
       "      <td>-0.429577</td>\n",
       "      <td>-0.570750</td>\n",
       "      <td>1.171992</td>\n",
       "      <td>-0.288653</td>\n",
       "      <td>...</td>\n",
       "      <td>-0.060731</td>\n",
       "      <td>1.626195</td>\n",
       "      <td>-0.704483</td>\n",
       "      <td>-0.359325</td>\n",
       "      <td>-0.116339</td>\n",
       "      <td>-0.270208</td>\n",
       "      <td>-0.068692</td>\n",
       "      <td>-0.087688</td>\n",
       "      <td>-0.489110</td>\n",
       "      <td>-0.614439</td>\n",
       "    </tr>\n",
       "    <tr>\n",
       "      <th>2</th>\n",
       "      <td>0.073375</td>\n",
       "      <td>-0.084636</td>\n",
       "      <td>0.073480</td>\n",
       "      <td>0.651479</td>\n",
       "      <td>-0.517200</td>\n",
       "      <td>0.984752</td>\n",
       "      <td>0.830215</td>\n",
       "      <td>0.325915</td>\n",
       "      <td>0.092907</td>\n",
       "      <td>-0.288653</td>\n",
       "      <td>...</td>\n",
       "      <td>0.631726</td>\n",
       "      <td>-0.752176</td>\n",
       "      <td>-0.070361</td>\n",
       "      <td>-0.359325</td>\n",
       "      <td>-0.116339</td>\n",
       "      <td>-0.270208</td>\n",
       "      <td>-0.068692</td>\n",
       "      <td>-0.087688</td>\n",
       "      <td>0.990891</td>\n",
       "      <td>0.138777</td>\n",
       "    </tr>\n",
       "    <tr>\n",
       "      <th>3</th>\n",
       "      <td>0.309859</td>\n",
       "      <td>-0.447940</td>\n",
       "      <td>-0.096897</td>\n",
       "      <td>0.651479</td>\n",
       "      <td>-0.517200</td>\n",
       "      <td>-1.863632</td>\n",
       "      <td>-0.720298</td>\n",
       "      <td>-0.570750</td>\n",
       "      <td>-0.499274</td>\n",
       "      <td>-0.288653</td>\n",
       "      <td>...</td>\n",
       "      <td>0.790804</td>\n",
       "      <td>-0.752176</td>\n",
       "      <td>-0.176048</td>\n",
       "      <td>4.092524</td>\n",
       "      <td>-0.116339</td>\n",
       "      <td>-0.270208</td>\n",
       "      <td>-0.068692</td>\n",
       "      <td>-0.087688</td>\n",
       "      <td>-1.599111</td>\n",
       "      <td>-1.367655</td>\n",
       "    </tr>\n",
       "    <tr>\n",
       "      <th>4</th>\n",
       "      <td>0.073375</td>\n",
       "      <td>0.641972</td>\n",
       "      <td>0.375148</td>\n",
       "      <td>1.374795</td>\n",
       "      <td>-0.517200</td>\n",
       "      <td>0.951632</td>\n",
       "      <td>0.733308</td>\n",
       "      <td>1.366489</td>\n",
       "      <td>0.463568</td>\n",
       "      <td>-0.288653</td>\n",
       "      <td>...</td>\n",
       "      <td>1.698485</td>\n",
       "      <td>0.780197</td>\n",
       "      <td>0.563760</td>\n",
       "      <td>-0.359325</td>\n",
       "      <td>-0.116339</td>\n",
       "      <td>-0.270208</td>\n",
       "      <td>-0.068692</td>\n",
       "      <td>-0.087688</td>\n",
       "      <td>2.100892</td>\n",
       "      <td>0.138777</td>\n",
       "    </tr>\n",
       "  </tbody>\n",
       "</table>\n",
       "<p>5 rows × 36 columns</p>\n",
       "</div>"
      ],
      "text/plain": [
       "   MSSubClass  LotFrontage   LotArea  OverallQual  OverallCond  YearBuilt  \\\n",
       "0    0.073375    -0.220875 -0.207142     0.651479    -0.517200   1.050994   \n",
       "1   -0.872563     0.460320 -0.091886    -0.071836     2.179628   0.156734   \n",
       "2    0.073375    -0.084636  0.073480     0.651479    -0.517200   0.984752   \n",
       "3    0.309859    -0.447940 -0.096897     0.651479    -0.517200  -1.863632   \n",
       "4    0.073375     0.641972  0.375148     1.374795    -0.517200   0.951632   \n",
       "\n",
       "   YearRemodAdd  MasVnrArea  BsmtFinSF1  BsmtFinSF2  ...  GarageArea  \\\n",
       "0      0.878668    0.514104    0.575425   -0.288653  ...    0.351000   \n",
       "1     -0.429577   -0.570750    1.171992   -0.288653  ...   -0.060731   \n",
       "2      0.830215    0.325915    0.092907   -0.288653  ...    0.631726   \n",
       "3     -0.720298   -0.570750   -0.499274   -0.288653  ...    0.790804   \n",
       "4      0.733308    1.366489    0.463568   -0.288653  ...    1.698485   \n",
       "\n",
       "   WoodDeckSF  OpenPorchSF  EnclosedPorch  3SsnPorch  ScreenPorch  PoolArea  \\\n",
       "0   -0.752176     0.216503      -0.359325  -0.116339    -0.270208 -0.068692   \n",
       "1    1.626195    -0.704483      -0.359325  -0.116339    -0.270208 -0.068692   \n",
       "2   -0.752176    -0.070361      -0.359325  -0.116339    -0.270208 -0.068692   \n",
       "3   -0.752176    -0.176048       4.092524  -0.116339    -0.270208 -0.068692   \n",
       "4    0.780197     0.563760      -0.359325  -0.116339    -0.270208 -0.068692   \n",
       "\n",
       "    MiscVal    MoSold    YrSold  \n",
       "0 -0.087688 -1.599111  0.138777  \n",
       "1 -0.087688 -0.489110 -0.614439  \n",
       "2 -0.087688  0.990891  0.138777  \n",
       "3 -0.087688 -1.599111 -1.367655  \n",
       "4 -0.087688  2.100892  0.138777  \n",
       "\n",
       "[5 rows x 36 columns]"
      ]
     },
     "execution_count": 15,
     "metadata": {},
     "output_type": "execute_result"
    }
   ],
   "source": [
    "X.head()"
   ]
  },
  {
   "cell_type": "code",
   "execution_count": 16,
   "id": "8b1f3f6f",
   "metadata": {},
   "outputs": [
    {
     "data": {
      "text/html": [
       "<div>\n",
       "<style scoped>\n",
       "    .dataframe tbody tr th:only-of-type {\n",
       "        vertical-align: middle;\n",
       "    }\n",
       "\n",
       "    .dataframe tbody tr th {\n",
       "        vertical-align: top;\n",
       "    }\n",
       "\n",
       "    .dataframe thead th {\n",
       "        text-align: right;\n",
       "    }\n",
       "</style>\n",
       "<table border=\"1\" class=\"dataframe\">\n",
       "  <thead>\n",
       "    <tr style=\"text-align: right;\">\n",
       "      <th></th>\n",
       "      <th>MSSubClass</th>\n",
       "      <th>LotFrontage</th>\n",
       "      <th>LotArea</th>\n",
       "      <th>OverallQual</th>\n",
       "      <th>OverallCond</th>\n",
       "      <th>YearBuilt</th>\n",
       "      <th>YearRemodAdd</th>\n",
       "      <th>MasVnrArea</th>\n",
       "      <th>BsmtFinSF1</th>\n",
       "      <th>BsmtFinSF2</th>\n",
       "      <th>...</th>\n",
       "      <th>GarageArea</th>\n",
       "      <th>WoodDeckSF</th>\n",
       "      <th>OpenPorchSF</th>\n",
       "      <th>EnclosedPorch</th>\n",
       "      <th>3SsnPorch</th>\n",
       "      <th>ScreenPorch</th>\n",
       "      <th>PoolArea</th>\n",
       "      <th>MiscVal</th>\n",
       "      <th>MoSold</th>\n",
       "      <th>YrSold</th>\n",
       "    </tr>\n",
       "  </thead>\n",
       "  <tbody>\n",
       "    <tr>\n",
       "      <th>0</th>\n",
       "      <td>-0.872563</td>\n",
       "      <td>0.460320</td>\n",
       "      <td>0.110763</td>\n",
       "      <td>-0.795151</td>\n",
       "      <td>0.381743</td>\n",
       "      <td>-0.340077</td>\n",
       "      <td>-1.156380</td>\n",
       "      <td>-0.570750</td>\n",
       "      <td>0.053428</td>\n",
       "      <td>0.604293</td>\n",
       "      <td>...</td>\n",
       "      <td>1.202536</td>\n",
       "      <td>0.365179</td>\n",
       "      <td>-0.704483</td>\n",
       "      <td>-0.359325</td>\n",
       "      <td>-0.116339</td>\n",
       "      <td>1.882709</td>\n",
       "      <td>-0.068692</td>\n",
       "      <td>-0.087688</td>\n",
       "      <td>-0.119110</td>\n",
       "      <td>1.64521</td>\n",
       "    </tr>\n",
       "    <tr>\n",
       "      <th>1</th>\n",
       "      <td>-0.872563</td>\n",
       "      <td>0.505733</td>\n",
       "      <td>0.375850</td>\n",
       "      <td>-0.071836</td>\n",
       "      <td>0.381743</td>\n",
       "      <td>-0.439440</td>\n",
       "      <td>-1.301740</td>\n",
       "      <td>0.027027</td>\n",
       "      <td>1.051363</td>\n",
       "      <td>-0.288653</td>\n",
       "      <td>...</td>\n",
       "      <td>-0.753188</td>\n",
       "      <td>2.384400</td>\n",
       "      <td>-0.160950</td>\n",
       "      <td>-0.359325</td>\n",
       "      <td>-0.116339</td>\n",
       "      <td>-0.270208</td>\n",
       "      <td>-0.068692</td>\n",
       "      <td>25.116309</td>\n",
       "      <td>-0.119110</td>\n",
       "      <td>1.64521</td>\n",
       "    </tr>\n",
       "    <tr>\n",
       "      <th>2</th>\n",
       "      <td>0.073375</td>\n",
       "      <td>0.187842</td>\n",
       "      <td>0.332053</td>\n",
       "      <td>-0.795151</td>\n",
       "      <td>-0.517200</td>\n",
       "      <td>0.852269</td>\n",
       "      <td>0.636400</td>\n",
       "      <td>-0.570750</td>\n",
       "      <td>0.761852</td>\n",
       "      <td>-0.288653</td>\n",
       "      <td>...</td>\n",
       "      <td>0.042202</td>\n",
       "      <td>0.939819</td>\n",
       "      <td>-0.191147</td>\n",
       "      <td>-0.359325</td>\n",
       "      <td>-0.116339</td>\n",
       "      <td>-0.270208</td>\n",
       "      <td>-0.068692</td>\n",
       "      <td>-0.087688</td>\n",
       "      <td>-1.229111</td>\n",
       "      <td>1.64521</td>\n",
       "    </tr>\n",
       "    <tr>\n",
       "      <th>3</th>\n",
       "      <td>0.073375</td>\n",
       "      <td>0.369494</td>\n",
       "      <td>-0.054002</td>\n",
       "      <td>-0.071836</td>\n",
       "      <td>0.381743</td>\n",
       "      <td>0.885390</td>\n",
       "      <td>0.636400</td>\n",
       "      <td>-0.460051</td>\n",
       "      <td>0.347326</td>\n",
       "      <td>-0.288653</td>\n",
       "      <td>...</td>\n",
       "      <td>-0.013943</td>\n",
       "      <td>2.121024</td>\n",
       "      <td>-0.160950</td>\n",
       "      <td>-0.359325</td>\n",
       "      <td>-0.116339</td>\n",
       "      <td>-0.270208</td>\n",
       "      <td>-0.068692</td>\n",
       "      <td>-0.087688</td>\n",
       "      <td>-0.119110</td>\n",
       "      <td>1.64521</td>\n",
       "    </tr>\n",
       "    <tr>\n",
       "      <th>4</th>\n",
       "      <td>1.492282</td>\n",
       "      <td>-1.219961</td>\n",
       "      <td>-0.552407</td>\n",
       "      <td>1.374795</td>\n",
       "      <td>-0.517200</td>\n",
       "      <td>0.686666</td>\n",
       "      <td>0.345679</td>\n",
       "      <td>-0.570750</td>\n",
       "      <td>-0.396190</td>\n",
       "      <td>-0.288653</td>\n",
       "      <td>...</td>\n",
       "      <td>0.154492</td>\n",
       "      <td>-0.752176</td>\n",
       "      <td>0.533564</td>\n",
       "      <td>-0.359325</td>\n",
       "      <td>-0.116339</td>\n",
       "      <td>2.313293</td>\n",
       "      <td>-0.068692</td>\n",
       "      <td>-0.087688</td>\n",
       "      <td>-1.969111</td>\n",
       "      <td>1.64521</td>\n",
       "    </tr>\n",
       "  </tbody>\n",
       "</table>\n",
       "<p>5 rows × 36 columns</p>\n",
       "</div>"
      ],
      "text/plain": [
       "   MSSubClass  LotFrontage   LotArea  OverallQual  OverallCond  YearBuilt  \\\n",
       "0   -0.872563     0.460320  0.110763    -0.795151     0.381743  -0.340077   \n",
       "1   -0.872563     0.505733  0.375850    -0.071836     0.381743  -0.439440   \n",
       "2    0.073375     0.187842  0.332053    -0.795151    -0.517200   0.852269   \n",
       "3    0.073375     0.369494 -0.054002    -0.071836     0.381743   0.885390   \n",
       "4    1.492282    -1.219961 -0.552407     1.374795    -0.517200   0.686666   \n",
       "\n",
       "   YearRemodAdd  MasVnrArea  BsmtFinSF1  BsmtFinSF2  ...  GarageArea  \\\n",
       "0     -1.156380   -0.570750    0.053428    0.604293  ...    1.202536   \n",
       "1     -1.301740    0.027027    1.051363   -0.288653  ...   -0.753188   \n",
       "2      0.636400   -0.570750    0.761852   -0.288653  ...    0.042202   \n",
       "3      0.636400   -0.460051    0.347326   -0.288653  ...   -0.013943   \n",
       "4      0.345679   -0.570750   -0.396190   -0.288653  ...    0.154492   \n",
       "\n",
       "   WoodDeckSF  OpenPorchSF  EnclosedPorch  3SsnPorch  ScreenPorch  PoolArea  \\\n",
       "0    0.365179    -0.704483      -0.359325  -0.116339     1.882709 -0.068692   \n",
       "1    2.384400    -0.160950      -0.359325  -0.116339    -0.270208 -0.068692   \n",
       "2    0.939819    -0.191147      -0.359325  -0.116339    -0.270208 -0.068692   \n",
       "3    2.121024    -0.160950      -0.359325  -0.116339    -0.270208 -0.068692   \n",
       "4   -0.752176     0.533564      -0.359325  -0.116339     2.313293 -0.068692   \n",
       "\n",
       "     MiscVal    MoSold   YrSold  \n",
       "0  -0.087688 -0.119110  1.64521  \n",
       "1  25.116309 -0.119110  1.64521  \n",
       "2  -0.087688 -1.229111  1.64521  \n",
       "3  -0.087688 -0.119110  1.64521  \n",
       "4  -0.087688 -1.969111  1.64521  \n",
       "\n",
       "[5 rows x 36 columns]"
      ]
     },
     "execution_count": 16,
     "metadata": {},
     "output_type": "execute_result"
    }
   ],
   "source": [
    "test.head()"
   ]
  },
  {
   "cell_type": "markdown",
   "id": "cb607f8f",
   "metadata": {},
   "source": [
    "Data split"
   ]
  },
  {
   "cell_type": "code",
   "execution_count": 17,
   "id": "6f3b55fa",
   "metadata": {},
   "outputs": [],
   "source": [
    "X_train, X_test, y_train, y_test = train_test_split(X, y,\n",
    "                        test_size=0.3, random_state=1)"
   ]
  },
  {
   "cell_type": "markdown",
   "id": "82410437",
   "metadata": {},
   "source": [
    "Linear Regression"
   ]
  },
  {
   "cell_type": "code",
   "execution_count": 18,
   "id": "c3b9f3b9",
   "metadata": {},
   "outputs": [
    {
     "data": {
      "text/plain": [
       "LinearRegression()"
      ]
     },
     "execution_count": 18,
     "metadata": {},
     "output_type": "execute_result"
    }
   ],
   "source": [
    "linear_m = linear_model.LinearRegression()\n",
    "linear_m.fit(X_train, y_train)"
   ]
  },
  {
   "cell_type": "code",
   "execution_count": 19,
   "id": "ec9d351d",
   "metadata": {},
   "outputs": [
    {
     "data": {
      "text/plain": [
       "34947.242428863334"
      ]
     },
     "execution_count": 19,
     "metadata": {},
     "output_type": "execute_result"
    }
   ],
   "source": [
    "linear_predictions_test = linear_m.predict(X_test)\n",
    "mean_squared_error(linear_predictions_test, y_test, squared = False)"
   ]
  },
  {
   "cell_type": "markdown",
   "id": "f73dfa3a",
   "metadata": {},
   "source": [
    "Linear Regression with Lasso"
   ]
  },
  {
   "cell_type": "code",
   "execution_count": 20,
   "id": "4cea4918",
   "metadata": {},
   "outputs": [
    {
     "data": {
      "text/plain": [
       "Lasso(alpha=0.1)"
      ]
     },
     "execution_count": 20,
     "metadata": {},
     "output_type": "execute_result"
    }
   ],
   "source": [
    "linear_with_lasso = linear_model.Lasso(alpha=0.1)\n",
    "linear_with_lasso.fit(X_train, y_train)"
   ]
  },
  {
   "cell_type": "code",
   "execution_count": 21,
   "id": "ebc62097",
   "metadata": {},
   "outputs": [
    {
     "data": {
      "text/plain": [
       "34952.05090459071"
      ]
     },
     "execution_count": 21,
     "metadata": {},
     "output_type": "execute_result"
    }
   ],
   "source": [
    "lasso_predictions = linear_with_lasso.predict(X_test)\n",
    "mean_squared_error(lasso_predictions, y_test, squared = False)"
   ]
  },
  {
   "cell_type": "code",
   "execution_count": 22,
   "id": "19e0f199",
   "metadata": {},
   "outputs": [],
   "source": [
    "# lasso does not improve the result"
   ]
  },
  {
   "cell_type": "markdown",
   "id": "483ee5c1",
   "metadata": {},
   "source": [
    "Random Forest"
   ]
  },
  {
   "cell_type": "code",
   "execution_count": 23,
   "id": "92a4d69a",
   "metadata": {},
   "outputs": [],
   "source": [
    "# at first we try searching for the best pool of parameters"
   ]
  },
  {
   "cell_type": "code",
   "execution_count": 24,
   "id": "d29d1753",
   "metadata": {},
   "outputs": [],
   "source": [
    "tuned_parameters = {'n_estimators': [100, 300, 500, 700, 1000],\n",
    "                    'max_depth': [2, 4, 6, 8, 10],\n",
    "                    'max_features': [5, 10, 15, 20, 25]\n",
    "                   }"
   ]
  },
  {
   "cell_type": "code",
   "execution_count": 25,
   "id": "f545137d",
   "metadata": {},
   "outputs": [],
   "source": [
    "clf = GridSearchCV(RandomForestRegressor(), tuned_parameters, cv=5, n_jobs=-1, verbose=1)"
   ]
  },
  {
   "cell_type": "code",
   "execution_count": 26,
   "id": "798773b3",
   "metadata": {},
   "outputs": [
    {
     "name": "stdout",
     "output_type": "stream",
     "text": [
      "Fitting 5 folds for each of 125 candidates, totalling 625 fits\n"
     ]
    },
    {
     "data": {
      "text/plain": [
       "GridSearchCV(cv=5, estimator=RandomForestRegressor(), n_jobs=-1,\n",
       "             param_grid={'max_depth': [2, 4, 6, 8, 10],\n",
       "                         'max_features': [5, 10, 15, 20, 25],\n",
       "                         'n_estimators': [100, 300, 500, 700, 1000]},\n",
       "             verbose=1)"
      ]
     },
     "execution_count": 26,
     "metadata": {},
     "output_type": "execute_result"
    }
   ],
   "source": [
    "clf.fit(X_train, y_train)"
   ]
  },
  {
   "cell_type": "code",
   "execution_count": 27,
   "id": "ac7482a8",
   "metadata": {},
   "outputs": [
    {
     "name": "stdout",
     "output_type": "stream",
     "text": [
      "RandomForestRegressor(max_depth=10, max_features=10, n_estimators=300)\n"
     ]
    }
   ],
   "source": [
    "print(clf.best_estimator_)"
   ]
  },
  {
   "cell_type": "code",
   "execution_count": 28,
   "id": "78bb5eaa",
   "metadata": {},
   "outputs": [],
   "source": [
    "rf = RandomForestRegressor(n_estimators=300, max_depth=10,\n",
    "                           max_features=10, random_state=1)"
   ]
  },
  {
   "cell_type": "code",
   "execution_count": 29,
   "id": "f2e491ee",
   "metadata": {},
   "outputs": [
    {
     "data": {
      "text/plain": [
       "RandomForestRegressor(max_depth=10, max_features=10, n_estimators=300,\n",
       "                      random_state=1)"
      ]
     },
     "execution_count": 29,
     "metadata": {},
     "output_type": "execute_result"
    }
   ],
   "source": [
    "rf.fit(X_train, y_train)"
   ]
  },
  {
   "cell_type": "code",
   "execution_count": 30,
   "id": "dc627359",
   "metadata": {},
   "outputs": [
    {
     "data": {
      "text/plain": [
       "27318.040976783264"
      ]
     },
     "execution_count": 30,
     "metadata": {},
     "output_type": "execute_result"
    }
   ],
   "source": [
    "rf_test_predictions = rf.predict(X_test)\n",
    "mean_squared_error(rf_test_predictions, y_test, squared = False)"
   ]
  },
  {
   "cell_type": "markdown",
   "id": "c0ce65da",
   "metadata": {},
   "source": [
    "Some visualisation of predictions on test data"
   ]
  },
  {
   "cell_type": "code",
   "execution_count": 31,
   "id": "c976afd8",
   "metadata": {},
   "outputs": [
    {
     "data": {
      "image/png": "[encoded data removed]",
      "text/plain": [
       "<Figure size 720x576 with 1 Axes>"
      ]
     },
     "metadata": {
      "needs_background": "light"
     },
     "output_type": "display_data"
    }
   ],
   "source": [
    "plt.figure(figsize=(10,8))\n",
    "plt.scatter(linear_predictions_test, y_test, label='linear')\n",
    "plt.scatter(rf_test_predictions, y_test, label='random forest')\n",
    "plt.plot([0, 700000], [0, 700000], color='black',\n",
    "        label='ideal result line') \n",
    "plt.title('Test Predictions')\n",
    "plt.legend(loc='upper left')\n",
    "plt.show()"
   ]
  },
  {
   "cell_type": "markdown",
   "id": "f740f4e8",
   "metadata": {},
   "source": [
    "Random Forest showed best results on test data,\n",
    "but it clearly needs further improving by concerning \n",
    "categorical features via one hot encoding."
   ]
  },
  {
   "cell_type": "code",
   "execution_count": 32,
   "id": "48bb40fc",
   "metadata": {},
   "outputs": [],
   "source": [
    "# submitting\n",
    "\n",
    "predictions = rf.predict(test)\n",
    "\n",
    "sub = pd.DataFrame({'Id':raw_test['Id'],\n",
    "                    'SalePrice':predictions}\n",
    "                  )"
   ]
  },
  {
   "cell_type": "code",
   "execution_count": 33,
   "id": "28af334c",
   "metadata": {},
   "outputs": [],
   "source": [
    "sub.to_csv('d:\\\\testing\\\\House Prices\\\\sub.csv', index = False)"
   ]
  },
  {
   "cell_type": "code",
   "execution_count": null,
   "id": "1ecf3e0f",
   "metadata": {},
   "outputs": [],
   "source": []
  }
 ],
 "metadata": {
  "kernelspec": {
   "display_name": "Python 3 (ipykernel)",
   "language": "python",
   "name": "python3"
  },
  "language_info": {
   "codemirror_mode": {
    "name": "ipython",
    "version": 3
   },
   "file_extension": ".py",
   "mimetype": "text/x-python",
   "name": "python",
   "nbconvert_exporter": "python",
   "pygments_lexer": "ipython3",
   "version": "3.10.1"
  }
 },
 "nbformat": 4,
 "nbformat_minor": 5
}
